{
 "cells": [
  {
   "cell_type": "markdown",
   "metadata": {},
   "source": [
    "# 4. Data Analysis"
   ]
  },
  {
   "cell_type": "code",
   "execution_count": 1,
   "metadata": {},
   "outputs": [
    {
     "data": {
      "text/html": [
       "<div>\n",
       "<style scoped>\n",
       "    .dataframe tbody tr th:only-of-type {\n",
       "        vertical-align: middle;\n",
       "    }\n",
       "\n",
       "    .dataframe tbody tr th {\n",
       "        vertical-align: top;\n",
       "    }\n",
       "\n",
       "    .dataframe thead th {\n",
       "        text-align: right;\n",
       "    }\n",
       "</style>\n",
       "<table border=\"1\" class=\"dataframe\">\n",
       "  <thead>\n",
       "    <tr style=\"text-align: right;\">\n",
       "      <th></th>\n",
       "      <th>Number</th>\n",
       "      <th>Name</th>\n",
       "      <th>Height</th>\n",
       "      <th>Weight</th>\n",
       "      <th>School</th>\n",
       "      <th>Gender</th>\n",
       "      <th>Python</th>\n",
       "      <th>Java</th>\n",
       "      <th>Javascript</th>\n",
       "      <th>C#</th>\n",
       "      <th>C++</th>\n",
       "      <th>HTML</th>\n",
       "    </tr>\n",
       "  </thead>\n",
       "  <tbody>\n",
       "    <tr>\n",
       "      <th>0</th>\n",
       "      <td>No.1</td>\n",
       "      <td>Tom</td>\n",
       "      <td>175</td>\n",
       "      <td>80</td>\n",
       "      <td>MIT</td>\n",
       "      <td>M</td>\n",
       "      <td>80</td>\n",
       "      <td>75</td>\n",
       "      <td>77</td>\n",
       "      <td>97</td>\n",
       "      <td>92</td>\n",
       "      <td>72</td>\n",
       "    </tr>\n",
       "    <tr>\n",
       "      <th>1</th>\n",
       "      <td>No.2</td>\n",
       "      <td>Noah</td>\n",
       "      <td>190</td>\n",
       "      <td>90</td>\n",
       "      <td>MIT</td>\n",
       "      <td>M</td>\n",
       "      <td>90</td>\n",
       "      <td>92</td>\n",
       "      <td>95</td>\n",
       "      <td>87</td>\n",
       "      <td>80</td>\n",
       "      <td>93</td>\n",
       "    </tr>\n",
       "    <tr>\n",
       "      <th>2</th>\n",
       "      <td>No.3</td>\n",
       "      <td>Lucas</td>\n",
       "      <td>185</td>\n",
       "      <td>83</td>\n",
       "      <td>Harvard</td>\n",
       "      <td>M</td>\n",
       "      <td>30</td>\n",
       "      <td>25</td>\n",
       "      <td>15</td>\n",
       "      <td>23</td>\n",
       "      <td>13</td>\n",
       "      <td>50</td>\n",
       "    </tr>\n",
       "    <tr>\n",
       "      <th>3</th>\n",
       "      <td>No.4</td>\n",
       "      <td>Mia</td>\n",
       "      <td>165</td>\n",
       "      <td>50</td>\n",
       "      <td>MIT</td>\n",
       "      <td>F</td>\n",
       "      <td>66</td>\n",
       "      <td>54</td>\n",
       "      <td>59</td>\n",
       "      <td>61</td>\n",
       "      <td>54</td>\n",
       "      <td>54</td>\n",
       "    </tr>\n",
       "    <tr>\n",
       "      <th>4</th>\n",
       "      <td>No.5</td>\n",
       "      <td>Amelia</td>\n",
       "      <td>170</td>\n",
       "      <td>56</td>\n",
       "      <td>Harvard</td>\n",
       "      <td>F</td>\n",
       "      <td>72</td>\n",
       "      <td>77</td>\n",
       "      <td>62</td>\n",
       "      <td>74</td>\n",
       "      <td>72</td>\n",
       "      <td>69</td>\n",
       "    </tr>\n",
       "    <tr>\n",
       "      <th>5</th>\n",
       "      <td>No.6</td>\n",
       "      <td>Sophia</td>\n",
       "      <td>160</td>\n",
       "      <td>60</td>\n",
       "      <td>MIT</td>\n",
       "      <td>F</td>\n",
       "      <td>93</td>\n",
       "      <td>95</td>\n",
       "      <td>90</td>\n",
       "      <td>88</td>\n",
       "      <td>85</td>\n",
       "      <td>82</td>\n",
       "    </tr>\n",
       "    <tr>\n",
       "      <th>6</th>\n",
       "      <td>No.7</td>\n",
       "      <td>James</td>\n",
       "      <td>183</td>\n",
       "      <td>72</td>\n",
       "      <td>Harvard</td>\n",
       "      <td>M</td>\n",
       "      <td>100</td>\n",
       "      <td>97</td>\n",
       "      <td>100</td>\n",
       "      <td>95</td>\n",
       "      <td>91</td>\n",
       "      <td>99</td>\n",
       "    </tr>\n",
       "    <tr>\n",
       "      <th>7</th>\n",
       "      <td>No.8</td>\n",
       "      <td>Ava</td>\n",
       "      <td>172</td>\n",
       "      <td>55</td>\n",
       "      <td>MIT</td>\n",
       "      <td>F</td>\n",
       "      <td>76</td>\n",
       "      <td>73</td>\n",
       "      <td>70</td>\n",
       "      <td>66</td>\n",
       "      <td>68</td>\n",
       "      <td>73</td>\n",
       "    </tr>\n",
       "  </tbody>\n",
       "</table>\n",
       "</div>"
      ],
      "text/plain": [
       "  Number    Name  Height  Weight   School Gender  Python  Java  Javascript  \\\n",
       "0   No.1     Tom     175      80      MIT      M      80    75          77   \n",
       "1   No.2    Noah     190      90      MIT      M      90    92          95   \n",
       "2   No.3   Lucas     185      83  Harvard      M      30    25          15   \n",
       "3   No.4     Mia     165      50      MIT      F      66    54          59   \n",
       "4   No.5  Amelia     170      56  Harvard      F      72    77          62   \n",
       "5   No.6  Sophia     160      60      MIT      F      93    95          90   \n",
       "6   No.7   James     183      72  Harvard      M     100    97         100   \n",
       "7   No.8     Ava     172      55      MIT      F      76    73          70   \n",
       "\n",
       "   C#  C++  HTML  \n",
       "0  97   92    72  \n",
       "1  87   80    93  \n",
       "2  23   13    50  \n",
       "3  61   54    54  \n",
       "4  74   72    69  \n",
       "5  88   85    82  \n",
       "6  95   91    99  \n",
       "7  66   68    73  "
      ]
     },
     "execution_count": 1,
     "metadata": {},
     "output_type": "execute_result"
    }
   ],
   "source": [
    "import pandas as pd\n",
    "df = pd.read_csv('info.csv')\n",
    "df"
   ]
  },
  {
   "cell_type": "code",
   "execution_count": 2,
   "metadata": {
    "scrolled": true
   },
   "outputs": [
    {
     "data": {
      "text/html": [
       "<div>\n",
       "<style scoped>\n",
       "    .dataframe tbody tr th:only-of-type {\n",
       "        vertical-align: middle;\n",
       "    }\n",
       "\n",
       "    .dataframe tbody tr th {\n",
       "        vertical-align: top;\n",
       "    }\n",
       "\n",
       "    .dataframe thead th {\n",
       "        text-align: right;\n",
       "    }\n",
       "</style>\n",
       "<table border=\"1\" class=\"dataframe\">\n",
       "  <thead>\n",
       "    <tr style=\"text-align: right;\">\n",
       "      <th></th>\n",
       "      <th>Name</th>\n",
       "      <th>Height</th>\n",
       "      <th>Weight</th>\n",
       "      <th>School</th>\n",
       "      <th>Gender</th>\n",
       "      <th>Python</th>\n",
       "      <th>Java</th>\n",
       "      <th>Javascript</th>\n",
       "      <th>C#</th>\n",
       "      <th>C++</th>\n",
       "      <th>HTML</th>\n",
       "    </tr>\n",
       "    <tr>\n",
       "      <th>Number</th>\n",
       "      <th></th>\n",
       "      <th></th>\n",
       "      <th></th>\n",
       "      <th></th>\n",
       "      <th></th>\n",
       "      <th></th>\n",
       "      <th></th>\n",
       "      <th></th>\n",
       "      <th></th>\n",
       "      <th></th>\n",
       "      <th></th>\n",
       "    </tr>\n",
       "  </thead>\n",
       "  <tbody>\n",
       "    <tr>\n",
       "      <th>No.1</th>\n",
       "      <td>Tom</td>\n",
       "      <td>175</td>\n",
       "      <td>80</td>\n",
       "      <td>MIT</td>\n",
       "      <td>M</td>\n",
       "      <td>80</td>\n",
       "      <td>75</td>\n",
       "      <td>77</td>\n",
       "      <td>97</td>\n",
       "      <td>92</td>\n",
       "      <td>72</td>\n",
       "    </tr>\n",
       "    <tr>\n",
       "      <th>No.2</th>\n",
       "      <td>Noah</td>\n",
       "      <td>190</td>\n",
       "      <td>90</td>\n",
       "      <td>MIT</td>\n",
       "      <td>M</td>\n",
       "      <td>90</td>\n",
       "      <td>92</td>\n",
       "      <td>95</td>\n",
       "      <td>87</td>\n",
       "      <td>80</td>\n",
       "      <td>93</td>\n",
       "    </tr>\n",
       "    <tr>\n",
       "      <th>No.3</th>\n",
       "      <td>Lucas</td>\n",
       "      <td>185</td>\n",
       "      <td>83</td>\n",
       "      <td>Harvard</td>\n",
       "      <td>M</td>\n",
       "      <td>30</td>\n",
       "      <td>25</td>\n",
       "      <td>15</td>\n",
       "      <td>23</td>\n",
       "      <td>13</td>\n",
       "      <td>50</td>\n",
       "    </tr>\n",
       "    <tr>\n",
       "      <th>No.4</th>\n",
       "      <td>Mia</td>\n",
       "      <td>165</td>\n",
       "      <td>50</td>\n",
       "      <td>MIT</td>\n",
       "      <td>F</td>\n",
       "      <td>66</td>\n",
       "      <td>54</td>\n",
       "      <td>59</td>\n",
       "      <td>61</td>\n",
       "      <td>54</td>\n",
       "      <td>54</td>\n",
       "    </tr>\n",
       "    <tr>\n",
       "      <th>No.5</th>\n",
       "      <td>Amelia</td>\n",
       "      <td>170</td>\n",
       "      <td>56</td>\n",
       "      <td>Harvard</td>\n",
       "      <td>F</td>\n",
       "      <td>72</td>\n",
       "      <td>77</td>\n",
       "      <td>62</td>\n",
       "      <td>74</td>\n",
       "      <td>72</td>\n",
       "      <td>69</td>\n",
       "    </tr>\n",
       "    <tr>\n",
       "      <th>No.6</th>\n",
       "      <td>Sophia</td>\n",
       "      <td>160</td>\n",
       "      <td>60</td>\n",
       "      <td>MIT</td>\n",
       "      <td>F</td>\n",
       "      <td>93</td>\n",
       "      <td>95</td>\n",
       "      <td>90</td>\n",
       "      <td>88</td>\n",
       "      <td>85</td>\n",
       "      <td>82</td>\n",
       "    </tr>\n",
       "    <tr>\n",
       "      <th>No.7</th>\n",
       "      <td>James</td>\n",
       "      <td>183</td>\n",
       "      <td>72</td>\n",
       "      <td>Harvard</td>\n",
       "      <td>M</td>\n",
       "      <td>100</td>\n",
       "      <td>97</td>\n",
       "      <td>100</td>\n",
       "      <td>95</td>\n",
       "      <td>91</td>\n",
       "      <td>99</td>\n",
       "    </tr>\n",
       "    <tr>\n",
       "      <th>No.8</th>\n",
       "      <td>Ava</td>\n",
       "      <td>172</td>\n",
       "      <td>55</td>\n",
       "      <td>MIT</td>\n",
       "      <td>F</td>\n",
       "      <td>76</td>\n",
       "      <td>73</td>\n",
       "      <td>70</td>\n",
       "      <td>66</td>\n",
       "      <td>68</td>\n",
       "      <td>73</td>\n",
       "    </tr>\n",
       "  </tbody>\n",
       "</table>\n",
       "</div>"
      ],
      "text/plain": [
       "          Name  Height  Weight   School Gender  Python  Java  Javascript  C#  \\\n",
       "Number                                                                         \n",
       "No.1       Tom     175      80      MIT      M      80    75          77  97   \n",
       "No.2      Noah     190      90      MIT      M      90    92          95  87   \n",
       "No.3     Lucas     185      83  Harvard      M      30    25          15  23   \n",
       "No.4       Mia     165      50      MIT      F      66    54          59  61   \n",
       "No.5    Amelia     170      56  Harvard      F      72    77          62  74   \n",
       "No.6    Sophia     160      60      MIT      F      93    95          90  88   \n",
       "No.7     James     183      72  Harvard      M     100    97         100  95   \n",
       "No.8       Ava     172      55      MIT      F      76    73          70  66   \n",
       "\n",
       "        C++  HTML  \n",
       "Number             \n",
       "No.1     92    72  \n",
       "No.2     80    93  \n",
       "No.3     13    50  \n",
       "No.4     54    54  \n",
       "No.5     72    69  \n",
       "No.6     85    82  \n",
       "No.7     91    99  \n",
       "No.8     68    73  "
      ]
     },
     "execution_count": 2,
     "metadata": {},
     "output_type": "execute_result"
    }
   ],
   "source": [
    "df = pd.read_csv('info.csv', index_col='Number') # Number을 인덱스로 설정하여 불러옴\n",
    "df"
   ]
  },
  {
   "cell_type": "code",
   "execution_count": 3,
   "metadata": {},
   "outputs": [
    {
     "data": {
      "text/plain": [
       "pandas.core.frame.DataFrame"
      ]
     },
     "execution_count": 3,
     "metadata": {},
     "output_type": "execute_result"
    }
   ],
   "source": [
    "type(df) # DataFrame Object 확인"
   ]
  },
  {
   "cell_type": "code",
   "execution_count": 4,
   "metadata": {},
   "outputs": [
    {
     "name": "stdout",
     "output_type": "stream",
     "text": [
      "<class 'pandas.core.frame.DataFrame'>\n",
      "Index: 8 entries, No.1 to No.8\n",
      "Data columns (total 11 columns):\n",
      " #   Column      Non-Null Count  Dtype \n",
      "---  ------      --------------  ----- \n",
      " 0   Name        8 non-null      object\n",
      " 1   Height      8 non-null      int64 \n",
      " 2   Weight      8 non-null      int64 \n",
      " 3   School      8 non-null      object\n",
      " 4   Gender      8 non-null      object\n",
      " 5   Python      8 non-null      int64 \n",
      " 6   Java        8 non-null      int64 \n",
      " 7   Javascript  8 non-null      int64 \n",
      " 8   C#          8 non-null      int64 \n",
      " 9   C++         8 non-null      int64 \n",
      " 10  HTML        8 non-null      int64 \n",
      "dtypes: int64(8), object(3)\n",
      "memory usage: 768.0+ bytes\n"
     ]
    }
   ],
   "source": [
    "df.info() # 데이터 정보를 확인"
   ]
  },
  {
   "cell_type": "code",
   "execution_count": 5,
   "metadata": {},
   "outputs": [
    {
     "data": {
      "text/plain": [
       "Index(['No.1', 'No.2', 'No.3', 'No.4', 'No.5', 'No.6', 'No.7', 'No.8'], dtype='object', name='Number')"
      ]
     },
     "execution_count": 5,
     "metadata": {},
     "output_type": "execute_result"
    }
   ],
   "source": [
    "df.index # index 확인"
   ]
  },
  {
   "cell_type": "code",
   "execution_count": 6,
   "metadata": {},
   "outputs": [
    {
     "data": {
      "text/plain": [
       "Index(['Name', 'Height', 'Weight', 'School', 'Gender', 'Python', 'Java',\n",
       "       'Javascript', 'C#', 'C++', 'HTML'],\n",
       "      dtype='object')"
      ]
     },
     "execution_count": 6,
     "metadata": {},
     "output_type": "execute_result"
    }
   ],
   "source": [
    "df.columns # columns 확인"
   ]
  },
  {
   "cell_type": "code",
   "execution_count": 7,
   "metadata": {},
   "outputs": [
    {
     "data": {
      "text/plain": [
       "Name          object\n",
       "Height         int64\n",
       "Weight         int64\n",
       "School        object\n",
       "Gender        object\n",
       "Python         int64\n",
       "Java           int64\n",
       "Javascript     int64\n",
       "C#             int64\n",
       "C++            int64\n",
       "HTML           int64\n",
       "dtype: object"
      ]
     },
     "execution_count": 7,
     "metadata": {},
     "output_type": "execute_result"
    }
   ],
   "source": [
    "df.dtypes # 데이터 타입 확인"
   ]
  },
  {
   "cell_type": "code",
   "execution_count": 8,
   "metadata": {},
   "outputs": [
    {
     "data": {
      "text/plain": [
       "(8, 11)"
      ]
     },
     "execution_count": 8,
     "metadata": {},
     "output_type": "execute_result"
    }
   ],
   "source": [
    "df.shape # (row, column) 확인"
   ]
  },
  {
   "cell_type": "code",
   "execution_count": 9,
   "metadata": {},
   "outputs": [
    {
     "data": {
      "text/plain": [
       "array([['Tom', 175, 80, 'MIT', 'M', 80, 75, 77, 97, 92, 72],\n",
       "       ['Noah', 190, 90, 'MIT', 'M', 90, 92, 95, 87, 80, 93],\n",
       "       ['Lucas', 185, 83, 'Harvard', 'M', 30, 25, 15, 23, 13, 50],\n",
       "       ['Mia', 165, 50, 'MIT', 'F', 66, 54, 59, 61, 54, 54],\n",
       "       ['Amelia', 170, 56, 'Harvard', 'F', 72, 77, 62, 74, 72, 69],\n",
       "       ['Sophia', 160, 60, 'MIT', 'F', 93, 95, 90, 88, 85, 82],\n",
       "       ['James', 183, 72, 'Harvard', 'M', 100, 97, 100, 95, 91, 99],\n",
       "       ['Ava', 172, 55, 'MIT', 'F', 76, 73, 70, 66, 68, 73]], dtype=object)"
      ]
     },
     "execution_count": 9,
     "metadata": {},
     "output_type": "execute_result"
    }
   ],
   "source": [
    "df.values # 데이터 값 확인"
   ]
  },
  {
   "cell_type": "code",
   "execution_count": 10,
   "metadata": {},
   "outputs": [
    {
     "data": {
      "text/html": [
       "<div>\n",
       "<style scoped>\n",
       "    .dataframe tbody tr th:only-of-type {\n",
       "        vertical-align: middle;\n",
       "    }\n",
       "\n",
       "    .dataframe tbody tr th {\n",
       "        vertical-align: top;\n",
       "    }\n",
       "\n",
       "    .dataframe thead th {\n",
       "        text-align: right;\n",
       "    }\n",
       "</style>\n",
       "<table border=\"1\" class=\"dataframe\">\n",
       "  <thead>\n",
       "    <tr style=\"text-align: right;\">\n",
       "      <th></th>\n",
       "      <th>Height</th>\n",
       "      <th>Weight</th>\n",
       "      <th>Python</th>\n",
       "      <th>Java</th>\n",
       "      <th>Javascript</th>\n",
       "      <th>C#</th>\n",
       "      <th>C++</th>\n",
       "      <th>HTML</th>\n",
       "    </tr>\n",
       "  </thead>\n",
       "  <tbody>\n",
       "    <tr>\n",
       "      <th>count</th>\n",
       "      <td>8.000000</td>\n",
       "      <td>8.000000</td>\n",
       "      <td>8.000000</td>\n",
       "      <td>8.000000</td>\n",
       "      <td>8.000000</td>\n",
       "      <td>8.000000</td>\n",
       "      <td>8.000000</td>\n",
       "      <td>8.000000</td>\n",
       "    </tr>\n",
       "    <tr>\n",
       "      <th>mean</th>\n",
       "      <td>175.000000</td>\n",
       "      <td>68.250000</td>\n",
       "      <td>75.875000</td>\n",
       "      <td>73.500000</td>\n",
       "      <td>71.000000</td>\n",
       "      <td>73.875000</td>\n",
       "      <td>69.375000</td>\n",
       "      <td>74.000000</td>\n",
       "    </tr>\n",
       "    <tr>\n",
       "      <th>std</th>\n",
       "      <td>10.337173</td>\n",
       "      <td>14.973787</td>\n",
       "      <td>21.741583</td>\n",
       "      <td>24.213338</td>\n",
       "      <td>27.192436</td>\n",
       "      <td>24.403966</td>\n",
       "      <td>26.076467</td>\n",
       "      <td>17.138095</td>\n",
       "    </tr>\n",
       "    <tr>\n",
       "      <th>min</th>\n",
       "      <td>160.000000</td>\n",
       "      <td>50.000000</td>\n",
       "      <td>30.000000</td>\n",
       "      <td>25.000000</td>\n",
       "      <td>15.000000</td>\n",
       "      <td>23.000000</td>\n",
       "      <td>13.000000</td>\n",
       "      <td>50.000000</td>\n",
       "    </tr>\n",
       "    <tr>\n",
       "      <th>25%</th>\n",
       "      <td>168.750000</td>\n",
       "      <td>55.750000</td>\n",
       "      <td>70.500000</td>\n",
       "      <td>68.250000</td>\n",
       "      <td>61.250000</td>\n",
       "      <td>64.750000</td>\n",
       "      <td>64.500000</td>\n",
       "      <td>65.250000</td>\n",
       "    </tr>\n",
       "    <tr>\n",
       "      <th>50%</th>\n",
       "      <td>173.500000</td>\n",
       "      <td>66.000000</td>\n",
       "      <td>78.000000</td>\n",
       "      <td>76.000000</td>\n",
       "      <td>73.500000</td>\n",
       "      <td>80.500000</td>\n",
       "      <td>76.000000</td>\n",
       "      <td>72.500000</td>\n",
       "    </tr>\n",
       "    <tr>\n",
       "      <th>75%</th>\n",
       "      <td>183.500000</td>\n",
       "      <td>80.750000</td>\n",
       "      <td>90.750000</td>\n",
       "      <td>92.750000</td>\n",
       "      <td>91.250000</td>\n",
       "      <td>89.750000</td>\n",
       "      <td>86.500000</td>\n",
       "      <td>84.750000</td>\n",
       "    </tr>\n",
       "    <tr>\n",
       "      <th>max</th>\n",
       "      <td>190.000000</td>\n",
       "      <td>90.000000</td>\n",
       "      <td>100.000000</td>\n",
       "      <td>97.000000</td>\n",
       "      <td>100.000000</td>\n",
       "      <td>97.000000</td>\n",
       "      <td>92.000000</td>\n",
       "      <td>99.000000</td>\n",
       "    </tr>\n",
       "  </tbody>\n",
       "</table>\n",
       "</div>"
      ],
      "text/plain": [
       "           Height     Weight      Python       Java  Javascript         C#  \\\n",
       "count    8.000000   8.000000    8.000000   8.000000    8.000000   8.000000   \n",
       "mean   175.000000  68.250000   75.875000  73.500000   71.000000  73.875000   \n",
       "std     10.337173  14.973787   21.741583  24.213338   27.192436  24.403966   \n",
       "min    160.000000  50.000000   30.000000  25.000000   15.000000  23.000000   \n",
       "25%    168.750000  55.750000   70.500000  68.250000   61.250000  64.750000   \n",
       "50%    173.500000  66.000000   78.000000  76.000000   73.500000  80.500000   \n",
       "75%    183.500000  80.750000   90.750000  92.750000   91.250000  89.750000   \n",
       "max    190.000000  90.000000  100.000000  97.000000  100.000000  97.000000   \n",
       "\n",
       "             C++       HTML  \n",
       "count   8.000000   8.000000  \n",
       "mean   69.375000  74.000000  \n",
       "std    26.076467  17.138095  \n",
       "min    13.000000  50.000000  \n",
       "25%    64.500000  65.250000  \n",
       "50%    76.000000  72.500000  \n",
       "75%    86.500000  84.750000  \n",
       "max    92.000000  99.000000  "
      ]
     },
     "execution_count": 10,
     "metadata": {},
     "output_type": "execute_result"
    }
   ],
   "source": [
    "df.describe() # Hashable 데이터의 통계치 확인"
   ]
  },
  {
   "cell_type": "code",
   "execution_count": 11,
   "metadata": {},
   "outputs": [
    {
     "data": {
      "text/html": [
       "<div>\n",
       "<style scoped>\n",
       "    .dataframe tbody tr th:only-of-type {\n",
       "        vertical-align: middle;\n",
       "    }\n",
       "\n",
       "    .dataframe tbody tr th {\n",
       "        vertical-align: top;\n",
       "    }\n",
       "\n",
       "    .dataframe thead th {\n",
       "        text-align: right;\n",
       "    }\n",
       "</style>\n",
       "<table border=\"1\" class=\"dataframe\">\n",
       "  <thead>\n",
       "    <tr style=\"text-align: right;\">\n",
       "      <th></th>\n",
       "      <th>Name</th>\n",
       "      <th>Height</th>\n",
       "      <th>Weight</th>\n",
       "      <th>School</th>\n",
       "      <th>Gender</th>\n",
       "      <th>Python</th>\n",
       "      <th>Java</th>\n",
       "      <th>Javascript</th>\n",
       "      <th>C#</th>\n",
       "      <th>C++</th>\n",
       "      <th>HTML</th>\n",
       "    </tr>\n",
       "    <tr>\n",
       "      <th>Number</th>\n",
       "      <th></th>\n",
       "      <th></th>\n",
       "      <th></th>\n",
       "      <th></th>\n",
       "      <th></th>\n",
       "      <th></th>\n",
       "      <th></th>\n",
       "      <th></th>\n",
       "      <th></th>\n",
       "      <th></th>\n",
       "      <th></th>\n",
       "    </tr>\n",
       "  </thead>\n",
       "  <tbody>\n",
       "    <tr>\n",
       "      <th>No.1</th>\n",
       "      <td>Tom</td>\n",
       "      <td>175</td>\n",
       "      <td>80</td>\n",
       "      <td>MIT</td>\n",
       "      <td>M</td>\n",
       "      <td>80</td>\n",
       "      <td>75</td>\n",
       "      <td>77</td>\n",
       "      <td>97</td>\n",
       "      <td>92</td>\n",
       "      <td>72</td>\n",
       "    </tr>\n",
       "    <tr>\n",
       "      <th>No.2</th>\n",
       "      <td>Noah</td>\n",
       "      <td>190</td>\n",
       "      <td>90</td>\n",
       "      <td>MIT</td>\n",
       "      <td>M</td>\n",
       "      <td>90</td>\n",
       "      <td>92</td>\n",
       "      <td>95</td>\n",
       "      <td>87</td>\n",
       "      <td>80</td>\n",
       "      <td>93</td>\n",
       "    </tr>\n",
       "    <tr>\n",
       "      <th>No.3</th>\n",
       "      <td>Lucas</td>\n",
       "      <td>185</td>\n",
       "      <td>83</td>\n",
       "      <td>Harvard</td>\n",
       "      <td>M</td>\n",
       "      <td>30</td>\n",
       "      <td>25</td>\n",
       "      <td>15</td>\n",
       "      <td>23</td>\n",
       "      <td>13</td>\n",
       "      <td>50</td>\n",
       "    </tr>\n",
       "    <tr>\n",
       "      <th>No.4</th>\n",
       "      <td>Mia</td>\n",
       "      <td>165</td>\n",
       "      <td>50</td>\n",
       "      <td>MIT</td>\n",
       "      <td>F</td>\n",
       "      <td>66</td>\n",
       "      <td>54</td>\n",
       "      <td>59</td>\n",
       "      <td>61</td>\n",
       "      <td>54</td>\n",
       "      <td>54</td>\n",
       "    </tr>\n",
       "    <tr>\n",
       "      <th>No.5</th>\n",
       "      <td>Amelia</td>\n",
       "      <td>170</td>\n",
       "      <td>56</td>\n",
       "      <td>Harvard</td>\n",
       "      <td>F</td>\n",
       "      <td>72</td>\n",
       "      <td>77</td>\n",
       "      <td>62</td>\n",
       "      <td>74</td>\n",
       "      <td>72</td>\n",
       "      <td>69</td>\n",
       "    </tr>\n",
       "  </tbody>\n",
       "</table>\n",
       "</div>"
      ],
      "text/plain": [
       "          Name  Height  Weight   School Gender  Python  Java  Javascript  C#  \\\n",
       "Number                                                                         \n",
       "No.1       Tom     175      80      MIT      M      80    75          77  97   \n",
       "No.2      Noah     190      90      MIT      M      90    92          95  87   \n",
       "No.3     Lucas     185      83  Harvard      M      30    25          15  23   \n",
       "No.4       Mia     165      50      MIT      F      66    54          59  61   \n",
       "No.5    Amelia     170      56  Harvard      F      72    77          62  74   \n",
       "\n",
       "        C++  HTML  \n",
       "Number             \n",
       "No.1     92    72  \n",
       "No.2     80    93  \n",
       "No.3     13    50  \n",
       "No.4     54    54  \n",
       "No.5     72    69  "
      ]
     },
     "execution_count": 11,
     "metadata": {},
     "output_type": "execute_result"
    }
   ],
   "source": [
    "df.head() # 첫 5개의 데이터 확인"
   ]
  },
  {
   "cell_type": "code",
   "execution_count": 12,
   "metadata": {
    "scrolled": true
   },
   "outputs": [
    {
     "data": {
      "text/html": [
       "<div>\n",
       "<style scoped>\n",
       "    .dataframe tbody tr th:only-of-type {\n",
       "        vertical-align: middle;\n",
       "    }\n",
       "\n",
       "    .dataframe tbody tr th {\n",
       "        vertical-align: top;\n",
       "    }\n",
       "\n",
       "    .dataframe thead th {\n",
       "        text-align: right;\n",
       "    }\n",
       "</style>\n",
       "<table border=\"1\" class=\"dataframe\">\n",
       "  <thead>\n",
       "    <tr style=\"text-align: right;\">\n",
       "      <th></th>\n",
       "      <th>Name</th>\n",
       "      <th>Height</th>\n",
       "      <th>Weight</th>\n",
       "      <th>School</th>\n",
       "      <th>Gender</th>\n",
       "      <th>Python</th>\n",
       "      <th>Java</th>\n",
       "      <th>Javascript</th>\n",
       "      <th>C#</th>\n",
       "      <th>C++</th>\n",
       "      <th>HTML</th>\n",
       "    </tr>\n",
       "    <tr>\n",
       "      <th>Number</th>\n",
       "      <th></th>\n",
       "      <th></th>\n",
       "      <th></th>\n",
       "      <th></th>\n",
       "      <th></th>\n",
       "      <th></th>\n",
       "      <th></th>\n",
       "      <th></th>\n",
       "      <th></th>\n",
       "      <th></th>\n",
       "      <th></th>\n",
       "    </tr>\n",
       "  </thead>\n",
       "  <tbody>\n",
       "    <tr>\n",
       "      <th>No.4</th>\n",
       "      <td>Mia</td>\n",
       "      <td>165</td>\n",
       "      <td>50</td>\n",
       "      <td>MIT</td>\n",
       "      <td>F</td>\n",
       "      <td>66</td>\n",
       "      <td>54</td>\n",
       "      <td>59</td>\n",
       "      <td>61</td>\n",
       "      <td>54</td>\n",
       "      <td>54</td>\n",
       "    </tr>\n",
       "    <tr>\n",
       "      <th>No.5</th>\n",
       "      <td>Amelia</td>\n",
       "      <td>170</td>\n",
       "      <td>56</td>\n",
       "      <td>Harvard</td>\n",
       "      <td>F</td>\n",
       "      <td>72</td>\n",
       "      <td>77</td>\n",
       "      <td>62</td>\n",
       "      <td>74</td>\n",
       "      <td>72</td>\n",
       "      <td>69</td>\n",
       "    </tr>\n",
       "    <tr>\n",
       "      <th>No.6</th>\n",
       "      <td>Sophia</td>\n",
       "      <td>160</td>\n",
       "      <td>60</td>\n",
       "      <td>MIT</td>\n",
       "      <td>F</td>\n",
       "      <td>93</td>\n",
       "      <td>95</td>\n",
       "      <td>90</td>\n",
       "      <td>88</td>\n",
       "      <td>85</td>\n",
       "      <td>82</td>\n",
       "    </tr>\n",
       "    <tr>\n",
       "      <th>No.7</th>\n",
       "      <td>James</td>\n",
       "      <td>183</td>\n",
       "      <td>72</td>\n",
       "      <td>Harvard</td>\n",
       "      <td>M</td>\n",
       "      <td>100</td>\n",
       "      <td>97</td>\n",
       "      <td>100</td>\n",
       "      <td>95</td>\n",
       "      <td>91</td>\n",
       "      <td>99</td>\n",
       "    </tr>\n",
       "    <tr>\n",
       "      <th>No.8</th>\n",
       "      <td>Ava</td>\n",
       "      <td>172</td>\n",
       "      <td>55</td>\n",
       "      <td>MIT</td>\n",
       "      <td>F</td>\n",
       "      <td>76</td>\n",
       "      <td>73</td>\n",
       "      <td>70</td>\n",
       "      <td>66</td>\n",
       "      <td>68</td>\n",
       "      <td>73</td>\n",
       "    </tr>\n",
       "  </tbody>\n",
       "</table>\n",
       "</div>"
      ],
      "text/plain": [
       "          Name  Height  Weight   School Gender  Python  Java  Javascript  C#  \\\n",
       "Number                                                                         \n",
       "No.4       Mia     165      50      MIT      F      66    54          59  61   \n",
       "No.5    Amelia     170      56  Harvard      F      72    77          62  74   \n",
       "No.6    Sophia     160      60      MIT      F      93    95          90  88   \n",
       "No.7     James     183      72  Harvard      M     100    97         100  95   \n",
       "No.8       Ava     172      55      MIT      F      76    73          70  66   \n",
       "\n",
       "        C++  HTML  \n",
       "Number             \n",
       "No.4     54    54  \n",
       "No.5     72    69  \n",
       "No.6     85    82  \n",
       "No.7     91    99  \n",
       "No.8     68    73  "
      ]
     },
     "execution_count": 12,
     "metadata": {},
     "output_type": "execute_result"
    }
   ],
   "source": [
    "df.tail() # 끝 5개의 데이터 확인"
   ]
  },
  {
   "cell_type": "markdown",
   "metadata": {},
   "source": [
    "## 특정 column(Series)의 통계치 확인"
   ]
  },
  {
   "cell_type": "code",
   "execution_count": 13,
   "metadata": {},
   "outputs": [
    {
     "data": {
      "text/plain": [
       "count      8.000000\n",
       "mean      75.875000\n",
       "std       21.741583\n",
       "min       30.000000\n",
       "25%       70.500000\n",
       "50%       78.000000\n",
       "75%       90.750000\n",
       "max      100.000000\n",
       "Name: Python, dtype: float64"
      ]
     },
     "execution_count": 13,
     "metadata": {},
     "output_type": "execute_result"
    }
   ],
   "source": [
    "df['Python'].describe() # 통계치 확인"
   ]
  },
  {
   "cell_type": "code",
   "execution_count": 14,
   "metadata": {},
   "outputs": [
    {
     "data": {
      "text/plain": [
       "100"
      ]
     },
     "execution_count": 14,
     "metadata": {},
     "output_type": "execute_result"
    }
   ],
   "source": [
    "df['Python'].max() # 최댓값"
   ]
  },
  {
   "cell_type": "code",
   "execution_count": 15,
   "metadata": {},
   "outputs": [
    {
     "data": {
      "text/plain": [
       "30"
      ]
     },
     "execution_count": 15,
     "metadata": {},
     "output_type": "execute_result"
    }
   ],
   "source": [
    "df['Python'].min() # 최솟값"
   ]
  },
  {
   "cell_type": "code",
   "execution_count": 16,
   "metadata": {},
   "outputs": [
    {
     "data": {
      "text/plain": [
       "Number\n",
       "No.7    100\n",
       "No.6     93\n",
       "No.2     90\n",
       "Name: Python, dtype: int64"
      ]
     },
     "execution_count": 16,
     "metadata": {},
     "output_type": "execute_result"
    }
   ],
   "source": [
    "df['Python'].nlargest(3) # 가장 Python 점수가 높은 3명 확인"
   ]
  },
  {
   "cell_type": "code",
   "execution_count": 17,
   "metadata": {},
   "outputs": [
    {
     "data": {
      "text/plain": [
       "75.875"
      ]
     },
     "execution_count": 17,
     "metadata": {},
     "output_type": "execute_result"
    }
   ],
   "source": [
    "df['Python'].mean() # 평균"
   ]
  },
  {
   "cell_type": "code",
   "execution_count": 18,
   "metadata": {},
   "outputs": [
    {
     "data": {
      "text/plain": [
       "8"
      ]
     },
     "execution_count": 18,
     "metadata": {},
     "output_type": "execute_result"
    }
   ],
   "source": [
    "df['Python'].count() # NaN이 아닌 데이터 확인"
   ]
  },
  {
   "cell_type": "code",
   "execution_count": 19,
   "metadata": {},
   "outputs": [
    {
     "data": {
      "text/plain": [
       "array(['MIT', 'Harvard'], dtype=object)"
      ]
     },
     "execution_count": 19,
     "metadata": {},
     "output_type": "execute_result"
    }
   ],
   "source": [
    "df['School'].unique() # unique한 데이터 확인"
   ]
  }
 ],
 "metadata": {
  "kernelspec": {
   "display_name": "Python 3",
   "language": "python",
   "name": "python3"
  },
  "language_info": {
   "codemirror_mode": {
    "name": "ipython",
    "version": 3
   },
   "file_extension": ".py",
   "mimetype": "text/x-python",
   "name": "python",
   "nbconvert_exporter": "python",
   "pygments_lexer": "ipython3",
   "version": "3.7.6"
  }
 },
 "nbformat": 4,
 "nbformat_minor": 4
}
